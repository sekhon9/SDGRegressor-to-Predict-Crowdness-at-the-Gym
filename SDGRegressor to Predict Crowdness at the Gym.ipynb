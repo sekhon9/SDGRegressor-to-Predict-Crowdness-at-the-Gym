{
 "cells": [
  {
   "cell_type": "markdown",
   "metadata": {},
   "source": [
    "## Intro\n",
    "\n",
    "\n",
    "I love going to the Gym, however, I hate it when it's crowded because I cannot follow my plan at my rythm. I often have to wait for the machine I need to free up, and it becomes next to impossible to follow my routine.\n",
    "\n",
    "Because of this, I decided to build a predictive model using Machine Learninhg, especifically a linear regressor using Stochastic Gradient Decsent.\n",
    "\n",
    "Using a dataset with over 60,000 observations and 11 featres including day, hour, temperature and other details, I will be creating a model that can predict how many people will be at the gym at a particular day and time. That way, I will be able to enjoy my excersise routine without waiting times.\n",
    "\n",
    "In the dataset we have the following observations:\n",
    "\n",
    "- number_people: this is the number of people at the gym at each observation. This will be our target variable or label.\n",
    "- date: a string value with the specific date and time information.\n",
    "- timestamp: an integer (int), with the number of seconds since the start of the day (00:00).\n",
    "- dayofweek: an integer (int). 0 is equal to Monday and 6 is equal to Sunday.\n",
    "- is_weekend: a Boolean value defining if this observation happened during a weekend. 1 for yes, 0 for no.\n",
    "- is_holiday: a Boolean value defining if the observation happened during a holiday. 1 for yes, 0 for no.\n",
    "- temperature: a float, defining the temperature during the day of the observation in Fahrenheit.\n",
    "- isstartof_semester: a Boolean defining if the observation happened in the first 2 weeks of a semester. 1 for yes, 0 for no.\n",
    "- is_during_semester: a Boolean defining if the observation happened during the active semester. 1 for yes, 0 for no.\n",
    "- month: an integer (int) defining the month of the year. 1 is equal to January, 12 is equal to December.\n",
    "- hour: an integer (int) for the hour of the day from 0 to 23."
   ]
  },
  {
   "cell_type": "code",
   "execution_count": 1,
   "metadata": {},
   "outputs": [],
   "source": [
    "import pandas as pd\n",
    "import numpy as np\n",
    "import matplotlib.pyplot as plt \n",
    "import seaborn as sns\n",
    "%matplotlib inline"
   ]
  },
  {
   "cell_type": "code",
   "execution_count": 2,
   "metadata": {},
   "outputs": [
    {
     "data": {
      "text/html": [
       "<div>\n",
       "<style scoped>\n",
       "    .dataframe tbody tr th:only-of-type {\n",
       "        vertical-align: middle;\n",
       "    }\n",
       "\n",
       "    .dataframe tbody tr th {\n",
       "        vertical-align: top;\n",
       "    }\n",
       "\n",
       "    .dataframe thead th {\n",
       "        text-align: right;\n",
       "    }\n",
       "</style>\n",
       "<table border=\"1\" class=\"dataframe\">\n",
       "  <thead>\n",
       "    <tr style=\"text-align: right;\">\n",
       "      <th></th>\n",
       "      <th>number_people</th>\n",
       "      <th>date</th>\n",
       "      <th>timestamp</th>\n",
       "      <th>day_of_week</th>\n",
       "      <th>is_weekend</th>\n",
       "      <th>is_holiday</th>\n",
       "      <th>temperature</th>\n",
       "      <th>is_start_of_semester</th>\n",
       "      <th>is_during_semester</th>\n",
       "      <th>month</th>\n",
       "      <th>hour</th>\n",
       "    </tr>\n",
       "  </thead>\n",
       "  <tbody>\n",
       "    <tr>\n",
       "      <th>0</th>\n",
       "      <td>37</td>\n",
       "      <td>2015-08-14 17:00:11-07:00</td>\n",
       "      <td>61211</td>\n",
       "      <td>4</td>\n",
       "      <td>0</td>\n",
       "      <td>0</td>\n",
       "      <td>71.76</td>\n",
       "      <td>0</td>\n",
       "      <td>0</td>\n",
       "      <td>8</td>\n",
       "      <td>17</td>\n",
       "    </tr>\n",
       "    <tr>\n",
       "      <th>1</th>\n",
       "      <td>45</td>\n",
       "      <td>2015-08-14 17:20:14-07:00</td>\n",
       "      <td>62414</td>\n",
       "      <td>4</td>\n",
       "      <td>0</td>\n",
       "      <td>0</td>\n",
       "      <td>71.76</td>\n",
       "      <td>0</td>\n",
       "      <td>0</td>\n",
       "      <td>8</td>\n",
       "      <td>17</td>\n",
       "    </tr>\n",
       "    <tr>\n",
       "      <th>2</th>\n",
       "      <td>40</td>\n",
       "      <td>2015-08-14 17:30:15-07:00</td>\n",
       "      <td>63015</td>\n",
       "      <td>4</td>\n",
       "      <td>0</td>\n",
       "      <td>0</td>\n",
       "      <td>71.76</td>\n",
       "      <td>0</td>\n",
       "      <td>0</td>\n",
       "      <td>8</td>\n",
       "      <td>17</td>\n",
       "    </tr>\n",
       "    <tr>\n",
       "      <th>3</th>\n",
       "      <td>44</td>\n",
       "      <td>2015-08-14 17:40:16-07:00</td>\n",
       "      <td>63616</td>\n",
       "      <td>4</td>\n",
       "      <td>0</td>\n",
       "      <td>0</td>\n",
       "      <td>71.76</td>\n",
       "      <td>0</td>\n",
       "      <td>0</td>\n",
       "      <td>8</td>\n",
       "      <td>17</td>\n",
       "    </tr>\n",
       "    <tr>\n",
       "      <th>4</th>\n",
       "      <td>45</td>\n",
       "      <td>2015-08-14 17:50:17-07:00</td>\n",
       "      <td>64217</td>\n",
       "      <td>4</td>\n",
       "      <td>0</td>\n",
       "      <td>0</td>\n",
       "      <td>71.76</td>\n",
       "      <td>0</td>\n",
       "      <td>0</td>\n",
       "      <td>8</td>\n",
       "      <td>17</td>\n",
       "    </tr>\n",
       "  </tbody>\n",
       "</table>\n",
       "</div>"
      ],
      "text/plain": [
       "   number_people                       date  timestamp  day_of_week  \\\n",
       "0             37  2015-08-14 17:00:11-07:00      61211            4   \n",
       "1             45  2015-08-14 17:20:14-07:00      62414            4   \n",
       "2             40  2015-08-14 17:30:15-07:00      63015            4   \n",
       "3             44  2015-08-14 17:40:16-07:00      63616            4   \n",
       "4             45  2015-08-14 17:50:17-07:00      64217            4   \n",
       "\n",
       "   is_weekend  is_holiday  temperature  is_start_of_semester  \\\n",
       "0           0           0        71.76                     0   \n",
       "1           0           0        71.76                     0   \n",
       "2           0           0        71.76                     0   \n",
       "3           0           0        71.76                     0   \n",
       "4           0           0        71.76                     0   \n",
       "\n",
       "   is_during_semester  month  hour  \n",
       "0                   0      8    17  \n",
       "1                   0      8    17  \n",
       "2                   0      8    17  \n",
       "3                   0      8    17  \n",
       "4                   0      8    17  "
      ]
     },
     "execution_count": 2,
     "metadata": {},
     "output_type": "execute_result"
    }
   ],
   "source": [
    "gym=pd.read_csv('crowdness_gym_data.csv')\n",
    "gym.head()"
   ]
  },
  {
   "cell_type": "markdown",
   "metadata": {},
   "source": [
    "# EDA and Cleaning the Data\n"
   ]
  },
  {
   "cell_type": "code",
   "execution_count": 3,
   "metadata": {},
   "outputs": [
    {
     "name": "stdout",
     "output_type": "stream",
     "text": [
      "<class 'pandas.core.frame.DataFrame'>\n",
      "RangeIndex: 62184 entries, 0 to 62183\n",
      "Data columns (total 11 columns):\n",
      " #   Column                Non-Null Count  Dtype  \n",
      "---  ------                --------------  -----  \n",
      " 0   number_people         62184 non-null  int64  \n",
      " 1   date                  62184 non-null  object \n",
      " 2   timestamp             62184 non-null  int64  \n",
      " 3   day_of_week           62184 non-null  int64  \n",
      " 4   is_weekend            62184 non-null  int64  \n",
      " 5   is_holiday            62184 non-null  int64  \n",
      " 6   temperature           62184 non-null  float64\n",
      " 7   is_start_of_semester  62184 non-null  int64  \n",
      " 8   is_during_semester    62184 non-null  int64  \n",
      " 9   month                 62184 non-null  int64  \n",
      " 10  hour                  62184 non-null  int64  \n",
      "dtypes: float64(1), int64(9), object(1)\n",
      "memory usage: 5.2+ MB\n"
     ]
    }
   ],
   "source": [
    "gym.info()"
   ]
  },
  {
   "cell_type": "code",
   "execution_count": 4,
   "metadata": {},
   "outputs": [
    {
     "data": {
      "text/plain": [
       "number_people           0\n",
       "date                    0\n",
       "timestamp               0\n",
       "day_of_week             0\n",
       "is_weekend              0\n",
       "is_holiday              0\n",
       "temperature             0\n",
       "is_start_of_semester    0\n",
       "is_during_semester      0\n",
       "month                   0\n",
       "hour                    0\n",
       "dtype: int64"
      ]
     },
     "execution_count": 4,
     "metadata": {},
     "output_type": "execute_result"
    }
   ],
   "source": [
    "gym.isnull().sum()"
   ]
  },
  {
   "cell_type": "markdown",
   "metadata": {},
   "source": [
    "Based on the previous two cells we cann see that there are no missing values in the dataset"
   ]
  },
  {
   "cell_type": "code",
   "execution_count": 5,
   "metadata": {},
   "outputs": [
    {
     "data": {
      "text/html": [
       "<div>\n",
       "<style scoped>\n",
       "    .dataframe tbody tr th:only-of-type {\n",
       "        vertical-align: middle;\n",
       "    }\n",
       "\n",
       "    .dataframe tbody tr th {\n",
       "        vertical-align: top;\n",
       "    }\n",
       "\n",
       "    .dataframe thead th {\n",
       "        text-align: right;\n",
       "    }\n",
       "</style>\n",
       "<table border=\"1\" class=\"dataframe\">\n",
       "  <thead>\n",
       "    <tr style=\"text-align: right;\">\n",
       "      <th></th>\n",
       "      <th>count</th>\n",
       "      <th>mean</th>\n",
       "      <th>std</th>\n",
       "      <th>min</th>\n",
       "      <th>25%</th>\n",
       "      <th>50%</th>\n",
       "      <th>75%</th>\n",
       "      <th>max</th>\n",
       "    </tr>\n",
       "  </thead>\n",
       "  <tbody>\n",
       "    <tr>\n",
       "      <th>number_people</th>\n",
       "      <td>62184.0</td>\n",
       "      <td>29.072543</td>\n",
       "      <td>22.689026</td>\n",
       "      <td>0.00</td>\n",
       "      <td>9.0</td>\n",
       "      <td>28.00</td>\n",
       "      <td>43.00</td>\n",
       "      <td>145.00</td>\n",
       "    </tr>\n",
       "    <tr>\n",
       "      <th>timestamp</th>\n",
       "      <td>62184.0</td>\n",
       "      <td>45799.437958</td>\n",
       "      <td>24211.275891</td>\n",
       "      <td>0.00</td>\n",
       "      <td>26624.0</td>\n",
       "      <td>46522.50</td>\n",
       "      <td>66612.00</td>\n",
       "      <td>86399.00</td>\n",
       "    </tr>\n",
       "    <tr>\n",
       "      <th>day_of_week</th>\n",
       "      <td>62184.0</td>\n",
       "      <td>2.982504</td>\n",
       "      <td>1.996825</td>\n",
       "      <td>0.00</td>\n",
       "      <td>1.0</td>\n",
       "      <td>3.00</td>\n",
       "      <td>5.00</td>\n",
       "      <td>6.00</td>\n",
       "    </tr>\n",
       "    <tr>\n",
       "      <th>is_weekend</th>\n",
       "      <td>62184.0</td>\n",
       "      <td>0.282870</td>\n",
       "      <td>0.450398</td>\n",
       "      <td>0.00</td>\n",
       "      <td>0.0</td>\n",
       "      <td>0.00</td>\n",
       "      <td>1.00</td>\n",
       "      <td>1.00</td>\n",
       "    </tr>\n",
       "    <tr>\n",
       "      <th>is_holiday</th>\n",
       "      <td>62184.0</td>\n",
       "      <td>0.002573</td>\n",
       "      <td>0.050660</td>\n",
       "      <td>0.00</td>\n",
       "      <td>0.0</td>\n",
       "      <td>0.00</td>\n",
       "      <td>0.00</td>\n",
       "      <td>1.00</td>\n",
       "    </tr>\n",
       "    <tr>\n",
       "      <th>temperature</th>\n",
       "      <td>62184.0</td>\n",
       "      <td>58.557108</td>\n",
       "      <td>6.316396</td>\n",
       "      <td>38.14</td>\n",
       "      <td>55.0</td>\n",
       "      <td>58.34</td>\n",
       "      <td>62.28</td>\n",
       "      <td>87.17</td>\n",
       "    </tr>\n",
       "    <tr>\n",
       "      <th>is_start_of_semester</th>\n",
       "      <td>62184.0</td>\n",
       "      <td>0.078831</td>\n",
       "      <td>0.269476</td>\n",
       "      <td>0.00</td>\n",
       "      <td>0.0</td>\n",
       "      <td>0.00</td>\n",
       "      <td>0.00</td>\n",
       "      <td>1.00</td>\n",
       "    </tr>\n",
       "    <tr>\n",
       "      <th>is_during_semester</th>\n",
       "      <td>62184.0</td>\n",
       "      <td>0.660218</td>\n",
       "      <td>0.473639</td>\n",
       "      <td>0.00</td>\n",
       "      <td>0.0</td>\n",
       "      <td>1.00</td>\n",
       "      <td>1.00</td>\n",
       "      <td>1.00</td>\n",
       "    </tr>\n",
       "    <tr>\n",
       "      <th>month</th>\n",
       "      <td>62184.0</td>\n",
       "      <td>7.439824</td>\n",
       "      <td>3.445069</td>\n",
       "      <td>1.00</td>\n",
       "      <td>5.0</td>\n",
       "      <td>8.00</td>\n",
       "      <td>10.00</td>\n",
       "      <td>12.00</td>\n",
       "    </tr>\n",
       "    <tr>\n",
       "      <th>hour</th>\n",
       "      <td>62184.0</td>\n",
       "      <td>12.236460</td>\n",
       "      <td>6.717631</td>\n",
       "      <td>0.00</td>\n",
       "      <td>7.0</td>\n",
       "      <td>12.00</td>\n",
       "      <td>18.00</td>\n",
       "      <td>23.00</td>\n",
       "    </tr>\n",
       "  </tbody>\n",
       "</table>\n",
       "</div>"
      ],
      "text/plain": [
       "                        count          mean           std    min      25%  \\\n",
       "number_people         62184.0     29.072543     22.689026   0.00      9.0   \n",
       "timestamp             62184.0  45799.437958  24211.275891   0.00  26624.0   \n",
       "day_of_week           62184.0      2.982504      1.996825   0.00      1.0   \n",
       "is_weekend            62184.0      0.282870      0.450398   0.00      0.0   \n",
       "is_holiday            62184.0      0.002573      0.050660   0.00      0.0   \n",
       "temperature           62184.0     58.557108      6.316396  38.14     55.0   \n",
       "is_start_of_semester  62184.0      0.078831      0.269476   0.00      0.0   \n",
       "is_during_semester    62184.0      0.660218      0.473639   0.00      0.0   \n",
       "month                 62184.0      7.439824      3.445069   1.00      5.0   \n",
       "hour                  62184.0     12.236460      6.717631   0.00      7.0   \n",
       "\n",
       "                           50%       75%       max  \n",
       "number_people            28.00     43.00    145.00  \n",
       "timestamp             46522.50  66612.00  86399.00  \n",
       "day_of_week               3.00      5.00      6.00  \n",
       "is_weekend                0.00      1.00      1.00  \n",
       "is_holiday                0.00      0.00      1.00  \n",
       "temperature              58.34     62.28     87.17  \n",
       "is_start_of_semester      0.00      0.00      1.00  \n",
       "is_during_semester        1.00      1.00      1.00  \n",
       "month                     8.00     10.00     12.00  \n",
       "hour                     12.00     18.00     23.00  "
      ]
     },
     "execution_count": 5,
     "metadata": {},
     "output_type": "execute_result"
    }
   ],
   "source": [
    "gym.describe().transpose()"
   ]
  },
  {
   "cell_type": "markdown",
   "metadata": {},
   "source": [
    "It all looks fairly straighforward. The date column, as it is an object, has no statistics, and the timestamp seems to be wierd to work with. Most of the others seem good, with some of the features like is_holiday and is_weekend being binary features."
   ]
  },
  {
   "cell_type": "markdown",
   "metadata": {},
   "source": [
    "Based on everythign we see we can at the very least remove the date column. The reason we can remove the date column is that because in the dataset we have other column that can help us retrieve days and other dates such as holidays and if it is weekend or not. "
   ]
  },
  {
   "cell_type": "code",
   "execution_count": 6,
   "metadata": {},
   "outputs": [
    {
     "name": "stdout",
     "output_type": "stream",
     "text": [
      "<class 'pandas.core.frame.DataFrame'>\n",
      "RangeIndex: 62184 entries, 0 to 62183\n",
      "Data columns (total 10 columns):\n",
      " #   Column                Non-Null Count  Dtype  \n",
      "---  ------                --------------  -----  \n",
      " 0   number_people         62184 non-null  int64  \n",
      " 1   timestamp             62184 non-null  int64  \n",
      " 2   day_of_week           62184 non-null  int64  \n",
      " 3   is_weekend            62184 non-null  int64  \n",
      " 4   is_holiday            62184 non-null  int64  \n",
      " 5   temperature           62184 non-null  float64\n",
      " 6   is_start_of_semester  62184 non-null  int64  \n",
      " 7   is_during_semester    62184 non-null  int64  \n",
      " 8   month                 62184 non-null  int64  \n",
      " 9   hour                  62184 non-null  int64  \n",
      "dtypes: float64(1), int64(9)\n",
      "memory usage: 4.7 MB\n"
     ]
    }
   ],
   "source": [
    "gym=gym.drop('date',axis=1)\n",
    "gym.info()"
   ]
  },
  {
   "cell_type": "code",
   "execution_count": 7,
   "metadata": {},
   "outputs": [
    {
     "data": {
      "text/plain": [
       "[Text(0, 0, '8838'),\n",
       " Text(0, 0, '9130'),\n",
       " Text(0, 0, '8981'),\n",
       " Text(0, 0, '8926'),\n",
       " Text(0, 0, '8719'),\n",
       " Text(0, 0, '8822'),\n",
       " Text(0, 0, '8768')]"
      ]
     },
     "execution_count": 7,
     "metadata": {},
     "output_type": "execute_result"
    },
    {
     "data": {
      "image/png": "[encoded data removed]",
      "text/plain": [
       "<Figure size 640x480 with 1 Axes>"
      ]
     },
     "metadata": {},
     "output_type": "display_data"
    }
   ],
   "source": [
    "ax=sns.countplot(x=gym[\"day_of_week\"])\n",
    "ax.bar_label(ax.containers[0])"
   ]
  },
  {
   "cell_type": "markdown",
   "metadata": {},
   "source": [
    "Based on the plot above we can see 1 (ie Tuesday) has the most observation which is 9130. Bu tthe observation are relataively close enough with each others."
   ]
  },
  {
   "cell_type": "code",
   "execution_count": 8,
   "metadata": {},
   "outputs": [
    {
     "data": {
      "text/plain": [
       "[Text(0, 0, '4046'),\n",
       " Text(0, 0, '3587'),\n",
       " Text(0, 0, '4333'),\n",
       " Text(0, 0, '2747'),\n",
       " Text(0, 0, '4230'),\n",
       " Text(0, 0, '3940'),\n",
       " Text(0, 0, '4447'),\n",
       " Text(0, 0, '6089'),\n",
       " Text(0, 0, '6914'),\n",
       " Text(0, 0, '7264'),\n",
       " Text(0, 0, '7110'),\n",
       " Text(0, 0, '7477')]"
      ]
     },
     "execution_count": 8,
     "metadata": {},
     "output_type": "execute_result"
    },
    {
     "data": {
      "image/png": "[encoded data removed]",
      "text/plain": [
       "<Figure size 640x480 with 1 Axes>"
      ]
     },
     "metadata": {},
     "output_type": "display_data"
    }
   ],
   "source": [
    "ax=sns.countplot(x=gym[\"month\"])\n",
    "ax.bar_label(ax.containers[0])"
   ]
  },
  {
   "cell_type": "markdown",
   "metadata": {},
   "source": [
    "Here we can see that December and January are the months with the most observations, probably because they are the most popular months to go to the gym. We can also see more obervations at the begining of the semester (August), then at the end, probably because everyone is very excited at the beguning and very busy at the end (March, April)."
   ]
  },
  {
   "cell_type": "code",
   "execution_count": 9,
   "metadata": {},
   "outputs": [
    {
     "data": {
      "text/plain": [
       "[Text(0, 0, '2978'),\n",
       " Text(0, 0, '1782'),\n",
       " Text(0, 0, '1520'),\n",
       " Text(0, 0, '1517'),\n",
       " Text(0, 0, '1437'),\n",
       " Text(0, 0, '2441'),\n",
       " Text(0, 0, '2758'),\n",
       " Text(0, 0, '2791'),\n",
       " Text(0, 0, '2798'),\n",
       " Text(0, 0, '2799'),\n",
       " Text(0, 0, '2796'),\n",
       " Text(0, 0, '2791'),\n",
       " Text(0, 0, '2805'),\n",
       " Text(0, 0, '2812'),\n",
       " Text(0, 0, '2787'),\n",
       " Text(0, 0, '2778'),\n",
       " Text(0, 0, '2808'),\n",
       " Text(0, 0, '2911'),\n",
       " Text(0, 0, '2837'),\n",
       " Text(0, 0, '2819'),\n",
       " Text(0, 0, '2795'),\n",
       " Text(0, 0, '2779'),\n",
       " Text(0, 0, '2775'),\n",
       " Text(0, 0, '2870')]"
      ]
     },
     "execution_count": 9,
     "metadata": {},
     "output_type": "execute_result"
    },
    {
     "data": {
      "image/png": "[encoded data removed]",
      "text/plain": [
       "<Figure size 1400x800 with 1 Axes>"
      ]
     },
     "metadata": {},
     "output_type": "display_data"
    }
   ],
   "source": [
    "plt.figure(figsize=(14, 8))\n",
    "ax=sns.countplot(x=gym[\"hour\"])\n",
    "ax.bar_label(ax.containers[0])"
   ]
  },
  {
   "cell_type": "markdown",
   "metadata": {
    "tags": []
   },
   "source": [
    "Based on the graph we can see that most poeple like goning to the gym later in the day or very early. This can can be to due to the fact that most people will go after/before work. What was really surprising is the number of people that go to the gym a midnight.\n"
   ]
  },
  {
   "cell_type": "markdown",
   "metadata": {},
   "source": [
    "Since we did some plot to determine if there is anything interesting that we can find, we now need to see what relationship every observation has with each other"
   ]
  },
  {
   "cell_type": "code",
   "execution_count": 10,
   "metadata": {},
   "outputs": [
    {
     "data": {
      "text/html": [
       "<div>\n",
       "<style scoped>\n",
       "    .dataframe tbody tr th:only-of-type {\n",
       "        vertical-align: middle;\n",
       "    }\n",
       "\n",
       "    .dataframe tbody tr th {\n",
       "        vertical-align: top;\n",
       "    }\n",
       "\n",
       "    .dataframe thead th {\n",
       "        text-align: right;\n",
       "    }\n",
       "</style>\n",
       "<table border=\"1\" class=\"dataframe\">\n",
       "  <thead>\n",
       "    <tr style=\"text-align: right;\">\n",
       "      <th></th>\n",
       "      <th>number_people</th>\n",
       "      <th>timestamp</th>\n",
       "      <th>day_of_week</th>\n",
       "      <th>is_weekend</th>\n",
       "      <th>is_holiday</th>\n",
       "      <th>temperature</th>\n",
       "      <th>is_start_of_semester</th>\n",
       "      <th>is_during_semester</th>\n",
       "      <th>month</th>\n",
       "      <th>hour</th>\n",
       "    </tr>\n",
       "  </thead>\n",
       "  <tbody>\n",
       "    <tr>\n",
       "      <th>number_people</th>\n",
       "      <td>1.000000</td>\n",
       "      <td>0.550218</td>\n",
       "      <td>-0.162062</td>\n",
       "      <td>-0.173958</td>\n",
       "      <td>-0.048249</td>\n",
       "      <td>0.373327</td>\n",
       "      <td>0.182683</td>\n",
       "      <td>0.335350</td>\n",
       "      <td>-0.097854</td>\n",
       "      <td>0.552049</td>\n",
       "    </tr>\n",
       "    <tr>\n",
       "      <th>timestamp</th>\n",
       "      <td>0.550218</td>\n",
       "      <td>1.000000</td>\n",
       "      <td>-0.001793</td>\n",
       "      <td>-0.000509</td>\n",
       "      <td>0.002851</td>\n",
       "      <td>0.184849</td>\n",
       "      <td>0.009551</td>\n",
       "      <td>0.044676</td>\n",
       "      <td>-0.023221</td>\n",
       "      <td>0.999077</td>\n",
       "    </tr>\n",
       "    <tr>\n",
       "      <th>day_of_week</th>\n",
       "      <td>-0.162062</td>\n",
       "      <td>-0.001793</td>\n",
       "      <td>1.000000</td>\n",
       "      <td>0.791338</td>\n",
       "      <td>-0.075862</td>\n",
       "      <td>0.011169</td>\n",
       "      <td>-0.011782</td>\n",
       "      <td>-0.004824</td>\n",
       "      <td>0.015559</td>\n",
       "      <td>-0.001914</td>\n",
       "    </tr>\n",
       "    <tr>\n",
       "      <th>is_weekend</th>\n",
       "      <td>-0.173958</td>\n",
       "      <td>-0.000509</td>\n",
       "      <td>0.791338</td>\n",
       "      <td>1.000000</td>\n",
       "      <td>-0.031899</td>\n",
       "      <td>0.020673</td>\n",
       "      <td>-0.016646</td>\n",
       "      <td>-0.036127</td>\n",
       "      <td>0.008462</td>\n",
       "      <td>-0.000517</td>\n",
       "    </tr>\n",
       "    <tr>\n",
       "      <th>is_holiday</th>\n",
       "      <td>-0.048249</td>\n",
       "      <td>0.002851</td>\n",
       "      <td>-0.075862</td>\n",
       "      <td>-0.031899</td>\n",
       "      <td>1.000000</td>\n",
       "      <td>-0.088527</td>\n",
       "      <td>-0.014858</td>\n",
       "      <td>-0.070798</td>\n",
       "      <td>-0.094942</td>\n",
       "      <td>0.002843</td>\n",
       "    </tr>\n",
       "    <tr>\n",
       "      <th>temperature</th>\n",
       "      <td>0.373327</td>\n",
       "      <td>0.184849</td>\n",
       "      <td>0.011169</td>\n",
       "      <td>0.020673</td>\n",
       "      <td>-0.088527</td>\n",
       "      <td>1.000000</td>\n",
       "      <td>0.093242</td>\n",
       "      <td>0.152476</td>\n",
       "      <td>0.063125</td>\n",
       "      <td>0.185121</td>\n",
       "    </tr>\n",
       "    <tr>\n",
       "      <th>is_start_of_semester</th>\n",
       "      <td>0.182683</td>\n",
       "      <td>0.009551</td>\n",
       "      <td>-0.011782</td>\n",
       "      <td>-0.016646</td>\n",
       "      <td>-0.014858</td>\n",
       "      <td>0.093242</td>\n",
       "      <td>1.000000</td>\n",
       "      <td>0.209862</td>\n",
       "      <td>-0.137160</td>\n",
       "      <td>0.010091</td>\n",
       "    </tr>\n",
       "    <tr>\n",
       "      <th>is_during_semester</th>\n",
       "      <td>0.335350</td>\n",
       "      <td>0.044676</td>\n",
       "      <td>-0.004824</td>\n",
       "      <td>-0.036127</td>\n",
       "      <td>-0.070798</td>\n",
       "      <td>0.152476</td>\n",
       "      <td>0.209862</td>\n",
       "      <td>1.000000</td>\n",
       "      <td>0.096556</td>\n",
       "      <td>0.045581</td>\n",
       "    </tr>\n",
       "    <tr>\n",
       "      <th>month</th>\n",
       "      <td>-0.097854</td>\n",
       "      <td>-0.023221</td>\n",
       "      <td>0.015559</td>\n",
       "      <td>0.008462</td>\n",
       "      <td>-0.094942</td>\n",
       "      <td>0.063125</td>\n",
       "      <td>-0.137160</td>\n",
       "      <td>0.096556</td>\n",
       "      <td>1.000000</td>\n",
       "      <td>-0.023624</td>\n",
       "    </tr>\n",
       "    <tr>\n",
       "      <th>hour</th>\n",
       "      <td>0.552049</td>\n",
       "      <td>0.999077</td>\n",
       "      <td>-0.001914</td>\n",
       "      <td>-0.000517</td>\n",
       "      <td>0.002843</td>\n",
       "      <td>0.185121</td>\n",
       "      <td>0.010091</td>\n",
       "      <td>0.045581</td>\n",
       "      <td>-0.023624</td>\n",
       "      <td>1.000000</td>\n",
       "    </tr>\n",
       "  </tbody>\n",
       "</table>\n",
       "</div>"
      ],
      "text/plain": [
       "                      number_people  timestamp  day_of_week  is_weekend  \\\n",
       "number_people              1.000000   0.550218    -0.162062   -0.173958   \n",
       "timestamp                  0.550218   1.000000    -0.001793   -0.000509   \n",
       "day_of_week               -0.162062  -0.001793     1.000000    0.791338   \n",
       "is_weekend                -0.173958  -0.000509     0.791338    1.000000   \n",
       "is_holiday                -0.048249   0.002851    -0.075862   -0.031899   \n",
       "temperature                0.373327   0.184849     0.011169    0.020673   \n",
       "is_start_of_semester       0.182683   0.009551    -0.011782   -0.016646   \n",
       "is_during_semester         0.335350   0.044676    -0.004824   -0.036127   \n",
       "month                     -0.097854  -0.023221     0.015559    0.008462   \n",
       "hour                       0.552049   0.999077    -0.001914   -0.000517   \n",
       "\n",
       "                      is_holiday  temperature  is_start_of_semester  \\\n",
       "number_people          -0.048249     0.373327              0.182683   \n",
       "timestamp               0.002851     0.184849              0.009551   \n",
       "day_of_week            -0.075862     0.011169             -0.011782   \n",
       "is_weekend             -0.031899     0.020673             -0.016646   \n",
       "is_holiday              1.000000    -0.088527             -0.014858   \n",
       "temperature            -0.088527     1.000000              0.093242   \n",
       "is_start_of_semester   -0.014858     0.093242              1.000000   \n",
       "is_during_semester     -0.070798     0.152476              0.209862   \n",
       "month                  -0.094942     0.063125             -0.137160   \n",
       "hour                    0.002843     0.185121              0.010091   \n",
       "\n",
       "                      is_during_semester     month      hour  \n",
       "number_people                   0.335350 -0.097854  0.552049  \n",
       "timestamp                       0.044676 -0.023221  0.999077  \n",
       "day_of_week                    -0.004824  0.015559 -0.001914  \n",
       "is_weekend                     -0.036127  0.008462 -0.000517  \n",
       "is_holiday                     -0.070798 -0.094942  0.002843  \n",
       "temperature                     0.152476  0.063125  0.185121  \n",
       "is_start_of_semester            0.209862 -0.137160  0.010091  \n",
       "is_during_semester              1.000000  0.096556  0.045581  \n",
       "month                           0.096556  1.000000 -0.023624  \n",
       "hour                            0.045581 -0.023624  1.000000  "
      ]
     },
     "execution_count": 10,
     "metadata": {},
     "output_type": "execute_result"
    }
   ],
   "source": [
    "gym.corr()"
   ]
  },
  {
   "cell_type": "markdown",
   "metadata": {},
   "source": [
    "This table gives is a sense of the correlation (positive or negative), between each factor and each other variable. Since we are mostly interested in the number of people, we can stick to the first column of the table.\n",
    "\n",
    "We cans see how the hour, temperature and interestingly the is_during_semester variables have the largest weight. Also we can see that the timestamp and hour variables have a very similar weight, wich means they could be redundant.\n",
    "\n",
    "Other variables have weaker correlations as well, like is_weekend and day_of_week are negatively correlated which is very interesting."
   ]
  },
  {
   "cell_type": "code",
   "execution_count": 11,
   "metadata": {},
   "outputs": [
    {
     "name": "stdout",
     "output_type": "stream",
     "text": [
      "number_people  is_weekend             -0.173958\n",
      "is_weekend     number_people          -0.173958\n",
      "day_of_week    number_people          -0.162062\n",
      "number_people  day_of_week            -0.162062\n",
      "month          is_start_of_semester   -0.137160\n",
      "                                         ...   \n",
      "is_weekend     is_weekend              1.000000\n",
      "day_of_week    day_of_week             1.000000\n",
      "timestamp      timestamp               1.000000\n",
      "month          month                   1.000000\n",
      "hour           hour                    1.000000\n",
      "Length: 100, dtype: float64\n"
     ]
    }
   ],
   "source": [
    "#only gives a breif summary\n",
    "correlation_mat = gym.corr()\n",
    "corr_pairs = correlation_mat.unstack()\n",
    "sorted_pairs = corr_pairs.sort_values(kind=\"quicksort\")\n",
    "print(sorted_pairs)"
   ]
  },
  {
   "cell_type": "code",
   "execution_count": 12,
   "metadata": {},
   "outputs": [
    {
     "data": {
      "text/plain": [
       "hour                  timestamp               0.999077\n",
       "is_weekend            day_of_week             0.791338\n",
       "number_people         hour                    0.552049\n",
       "                      timestamp               0.550218\n",
       "temperature           number_people           0.373327\n",
       "is_during_semester    number_people           0.335350\n",
       "is_start_of_semester  is_during_semester      0.209862\n",
       "temperature           hour                    0.185121\n",
       "timestamp             temperature             0.184849\n",
       "is_start_of_semester  number_people           0.182683\n",
       "is_during_semester    temperature             0.152476\n",
       "                      month                   0.096556\n",
       "temperature           is_start_of_semester    0.093242\n",
       "                      month                   0.063125\n",
       "is_during_semester    hour                    0.045581\n",
       "                      timestamp               0.044676\n",
       "is_weekend            temperature             0.020673\n",
       "day_of_week           month                   0.015559\n",
       "temperature           day_of_week             0.011169\n",
       "is_start_of_semester  hour                    0.010091\n",
       "                      timestamp               0.009551\n",
       "is_weekend            month                   0.008462\n",
       "is_holiday            timestamp               0.002851\n",
       "hour                  is_holiday              0.002843\n",
       "timestamp             is_weekend             -0.000509\n",
       "hour                  is_weekend             -0.000517\n",
       "day_of_week           timestamp              -0.001793\n",
       "                      hour                   -0.001914\n",
       "is_during_semester    day_of_week            -0.004824\n",
       "day_of_week           is_start_of_semester   -0.011782\n",
       "is_start_of_semester  is_holiday             -0.014858\n",
       "is_weekend            is_start_of_semester   -0.016646\n",
       "month                 timestamp              -0.023221\n",
       "                      hour                   -0.023624\n",
       "is_holiday            is_weekend             -0.031899\n",
       "is_during_semester    is_weekend             -0.036127\n",
       "number_people         is_holiday             -0.048249\n",
       "is_during_semester    is_holiday             -0.070798\n",
       "day_of_week           is_holiday             -0.075862\n",
       "temperature           is_holiday             -0.088527\n",
       "month                 is_holiday             -0.094942\n",
       "                      number_people          -0.097854\n",
       "                      is_start_of_semester   -0.137160\n",
       "number_people         day_of_week            -0.162062\n",
       "                      is_weekend             -0.173958\n",
       "                      number_people                NaN\n",
       "dtype: float64"
      ]
     },
     "execution_count": 12,
     "metadata": {},
     "output_type": "execute_result"
    }
   ],
   "source": [
    "#full summary of correaltions\n",
    "correlation_mat[correlation_mat < 1].unstack().transpose().sort_values(kind=\"quicksort\", ascending=False).drop_duplicates()"
   ]
  },
  {
   "cell_type": "code",
   "execution_count": 13,
   "metadata": {},
   "outputs": [
    {
     "data": {
      "text/plain": [
       "<AxesSubplot:>"
      ]
     },
     "execution_count": 13,
     "metadata": {},
     "output_type": "execute_result"
    },
    {
     "data": {
      "image/png": "[encoded data removed]",
      "text/plain": [
       "<Figure size 1400x800 with 2 Axes>"
      ]
     },
     "metadata": {},
     "output_type": "display_data"
    }
   ],
   "source": [
    "plt.figure(figsize=(14, 8))\n",
    "sns.heatmap(gym.corr(), annot=True)"
   ]
  },
  {
   "cell_type": "markdown",
   "metadata": {},
   "source": [
    "This simply confirms our previous suspicions, that temperature, hour and is_during_semester variables are the most important.\n",
    "\n",
    "Another thing, the timestamp seems to be redundant, since it has the same correlation as the hour, and we already have all the information on the month, day and time. So I will remove the timestamp column before moving on to building the model.\n",
    "\n",
    "Also, check with .head() to make sure the column was removed."
   ]
  },
  {
   "cell_type": "code",
   "execution_count": 14,
   "metadata": {},
   "outputs": [
    {
     "data": {
      "text/html": [
       "<div>\n",
       "<style scoped>\n",
       "    .dataframe tbody tr th:only-of-type {\n",
       "        vertical-align: middle;\n",
       "    }\n",
       "\n",
       "    .dataframe tbody tr th {\n",
       "        vertical-align: top;\n",
       "    }\n",
       "\n",
       "    .dataframe thead th {\n",
       "        text-align: right;\n",
       "    }\n",
       "</style>\n",
       "<table border=\"1\" class=\"dataframe\">\n",
       "  <thead>\n",
       "    <tr style=\"text-align: right;\">\n",
       "      <th></th>\n",
       "      <th>number_people</th>\n",
       "      <th>day_of_week</th>\n",
       "      <th>is_weekend</th>\n",
       "      <th>is_holiday</th>\n",
       "      <th>temperature</th>\n",
       "      <th>is_start_of_semester</th>\n",
       "      <th>is_during_semester</th>\n",
       "      <th>month</th>\n",
       "      <th>hour</th>\n",
       "    </tr>\n",
       "  </thead>\n",
       "  <tbody>\n",
       "    <tr>\n",
       "      <th>0</th>\n",
       "      <td>37</td>\n",
       "      <td>4</td>\n",
       "      <td>0</td>\n",
       "      <td>0</td>\n",
       "      <td>71.76</td>\n",
       "      <td>0</td>\n",
       "      <td>0</td>\n",
       "      <td>8</td>\n",
       "      <td>17</td>\n",
       "    </tr>\n",
       "    <tr>\n",
       "      <th>1</th>\n",
       "      <td>45</td>\n",
       "      <td>4</td>\n",
       "      <td>0</td>\n",
       "      <td>0</td>\n",
       "      <td>71.76</td>\n",
       "      <td>0</td>\n",
       "      <td>0</td>\n",
       "      <td>8</td>\n",
       "      <td>17</td>\n",
       "    </tr>\n",
       "    <tr>\n",
       "      <th>2</th>\n",
       "      <td>40</td>\n",
       "      <td>4</td>\n",
       "      <td>0</td>\n",
       "      <td>0</td>\n",
       "      <td>71.76</td>\n",
       "      <td>0</td>\n",
       "      <td>0</td>\n",
       "      <td>8</td>\n",
       "      <td>17</td>\n",
       "    </tr>\n",
       "    <tr>\n",
       "      <th>3</th>\n",
       "      <td>44</td>\n",
       "      <td>4</td>\n",
       "      <td>0</td>\n",
       "      <td>0</td>\n",
       "      <td>71.76</td>\n",
       "      <td>0</td>\n",
       "      <td>0</td>\n",
       "      <td>8</td>\n",
       "      <td>17</td>\n",
       "    </tr>\n",
       "    <tr>\n",
       "      <th>4</th>\n",
       "      <td>45</td>\n",
       "      <td>4</td>\n",
       "      <td>0</td>\n",
       "      <td>0</td>\n",
       "      <td>71.76</td>\n",
       "      <td>0</td>\n",
       "      <td>0</td>\n",
       "      <td>8</td>\n",
       "      <td>17</td>\n",
       "    </tr>\n",
       "  </tbody>\n",
       "</table>\n",
       "</div>"
      ],
      "text/plain": [
       "   number_people  day_of_week  is_weekend  is_holiday  temperature  \\\n",
       "0             37            4           0           0        71.76   \n",
       "1             45            4           0           0        71.76   \n",
       "2             40            4           0           0        71.76   \n",
       "3             44            4           0           0        71.76   \n",
       "4             45            4           0           0        71.76   \n",
       "\n",
       "   is_start_of_semester  is_during_semester  month  hour  \n",
       "0                     0                   0      8    17  \n",
       "1                     0                   0      8    17  \n",
       "2                     0                   0      8    17  \n",
       "3                     0                   0      8    17  \n",
       "4                     0                   0      8    17  "
      ]
     },
     "execution_count": 14,
     "metadata": {},
     "output_type": "execute_result"
    }
   ],
   "source": [
    "gym=gym.drop('timestamp',axis=1)\n",
    "gym.head()"
   ]
  },
  {
   "cell_type": "markdown",
   "metadata": {},
   "source": [
    "# Preparing to Build Our Model"
   ]
  },
  {
   "cell_type": "markdown",
   "metadata": {},
   "source": [
    "Now that the dataset is ready and we have our features, I need to import the tools needed to build the model. In this case, from the Scikit Lean library, the train_test_split and SGDRegressor."
   ]
  },
  {
   "cell_type": "code",
   "execution_count": 15,
   "metadata": {},
   "outputs": [],
   "source": [
    "from sklearn.model_selection import train_test_split\n",
    "from sklearn.linear_model import SGDRegressor\n",
    "from sklearn.preprocessing import StandardScaler\n",
    "from sklearn.metrics import mean_squared_error\n",
    "from sklearn.metrics import mean_absolute_error\n",
    "from sklearn.metrics import r2_score\n"
   ]
  },
  {
   "cell_type": "code",
   "execution_count": 16,
   "metadata": {},
   "outputs": [
    {
     "data": {
      "text/html": [
       "<div>\n",
       "<style scoped>\n",
       "    .dataframe tbody tr th:only-of-type {\n",
       "        vertical-align: middle;\n",
       "    }\n",
       "\n",
       "    .dataframe tbody tr th {\n",
       "        vertical-align: top;\n",
       "    }\n",
       "\n",
       "    .dataframe thead th {\n",
       "        text-align: right;\n",
       "    }\n",
       "</style>\n",
       "<table border=\"1\" class=\"dataframe\">\n",
       "  <thead>\n",
       "    <tr style=\"text-align: right;\">\n",
       "      <th></th>\n",
       "      <th>day_of_week</th>\n",
       "      <th>is_weekend</th>\n",
       "      <th>is_holiday</th>\n",
       "      <th>temperature</th>\n",
       "      <th>is_start_of_semester</th>\n",
       "      <th>is_during_semester</th>\n",
       "      <th>month</th>\n",
       "      <th>hour</th>\n",
       "    </tr>\n",
       "  </thead>\n",
       "  <tbody>\n",
       "    <tr>\n",
       "      <th>0</th>\n",
       "      <td>4</td>\n",
       "      <td>0</td>\n",
       "      <td>0</td>\n",
       "      <td>71.76</td>\n",
       "      <td>0</td>\n",
       "      <td>0</td>\n",
       "      <td>8</td>\n",
       "      <td>17</td>\n",
       "    </tr>\n",
       "    <tr>\n",
       "      <th>1</th>\n",
       "      <td>4</td>\n",
       "      <td>0</td>\n",
       "      <td>0</td>\n",
       "      <td>71.76</td>\n",
       "      <td>0</td>\n",
       "      <td>0</td>\n",
       "      <td>8</td>\n",
       "      <td>17</td>\n",
       "    </tr>\n",
       "    <tr>\n",
       "      <th>2</th>\n",
       "      <td>4</td>\n",
       "      <td>0</td>\n",
       "      <td>0</td>\n",
       "      <td>71.76</td>\n",
       "      <td>0</td>\n",
       "      <td>0</td>\n",
       "      <td>8</td>\n",
       "      <td>17</td>\n",
       "    </tr>\n",
       "    <tr>\n",
       "      <th>3</th>\n",
       "      <td>4</td>\n",
       "      <td>0</td>\n",
       "      <td>0</td>\n",
       "      <td>71.76</td>\n",
       "      <td>0</td>\n",
       "      <td>0</td>\n",
       "      <td>8</td>\n",
       "      <td>17</td>\n",
       "    </tr>\n",
       "    <tr>\n",
       "      <th>4</th>\n",
       "      <td>4</td>\n",
       "      <td>0</td>\n",
       "      <td>0</td>\n",
       "      <td>71.76</td>\n",
       "      <td>0</td>\n",
       "      <td>0</td>\n",
       "      <td>8</td>\n",
       "      <td>17</td>\n",
       "    </tr>\n",
       "  </tbody>\n",
       "</table>\n",
       "</div>"
      ],
      "text/plain": [
       "   day_of_week  is_weekend  is_holiday  temperature  is_start_of_semester  \\\n",
       "0            4           0           0        71.76                     0   \n",
       "1            4           0           0        71.76                     0   \n",
       "2            4           0           0        71.76                     0   \n",
       "3            4           0           0        71.76                     0   \n",
       "4            4           0           0        71.76                     0   \n",
       "\n",
       "   is_during_semester  month  hour  \n",
       "0                   0      8    17  \n",
       "1                   0      8    17  \n",
       "2                   0      8    17  \n",
       "3                   0      8    17  \n",
       "4                   0      8    17  "
      ]
     },
     "execution_count": 16,
     "metadata": {},
     "output_type": "execute_result"
    }
   ],
   "source": [
    "X=gym.drop('number_people',axis=1)\n",
    "X.head()"
   ]
  },
  {
   "cell_type": "code",
   "execution_count": 17,
   "metadata": {},
   "outputs": [
    {
     "data": {
      "text/plain": [
       "0    37\n",
       "1    45\n",
       "2    40\n",
       "3    44\n",
       "4    45\n",
       "Name: number_people, dtype: int64"
      ]
     },
     "execution_count": 17,
     "metadata": {},
     "output_type": "execute_result"
    }
   ],
   "source": [
    "y = gym['number_people'] \n",
    "y.head()"
   ]
  },
  {
   "cell_type": "code",
   "execution_count": 18,
   "metadata": {},
   "outputs": [],
   "source": [
    "X_train, X_test, y_train, y_test = train_test_split(X, y, test_size=0.3, random_state=101)"
   ]
  },
  {
   "cell_type": "markdown",
   "metadata": {},
   "source": [
    "Check to make sure the shape of each set is correct."
   ]
  },
  {
   "cell_type": "code",
   "execution_count": 19,
   "metadata": {},
   "outputs": [
    {
     "name": "stdout",
     "output_type": "stream",
     "text": [
      "Training features shape: (43528, 8)\n",
      "Testing features shape: (18656, 8)\n",
      "Training label shape: (43528,)\n",
      "Testing label shape: (18656,)\n"
     ]
    }
   ],
   "source": [
    "print(f\"Training features shape: {X_train.shape}\")\n",
    "print(f\"Testing features shape: {X_test.shape}\")\n",
    "print(f\"Training label shape: {y_train.shape}\")\n",
    "print(f\"Testing label shape: {y_test.shape}\")"
   ]
  },
  {
   "cell_type": "markdown",
   "metadata": {},
   "source": [
    "Build the model object with SGDRegressor. Setting the learning rate to optimal, the loss function to hubber loss and using elasticnet for the penalty.\n",
    "\n",
    "The fitting the model with the training data. I set the random_state so as to be able to reproduce the training."
   ]
  },
  {
   "cell_type": "code",
   "execution_count": 20,
   "metadata": {},
   "outputs": [],
   "source": [
    "sgd_v1 = SGDRegressor(alpha=0.0001, learning_rate='optimal', loss='huber', \n",
    "    penalty='elasticnet', random_state = 52)"
   ]
  },
  {
   "cell_type": "code",
   "execution_count": 21,
   "metadata": {},
   "outputs": [
    {
     "data": {
      "text/html": [
       "<style>#sk-container-id-1 {color: black;background-color: white;}#sk-container-id-1 pre{padding: 0;}#sk-container-id-1 div.sk-toggleable {background-color: white;}#sk-container-id-1 label.sk-toggleable__label {cursor: pointer;display: block;width: 100%;margin-bottom: 0;padding: 0.3em;box-sizing: border-box;text-align: center;}#sk-container-id-1 label.sk-toggleable__label-arrow:before {content: \"▸\";float: left;margin-right: 0.25em;color: #696969;}#sk-container-id-1 label.sk-toggleable__label-arrow:hover:before {color: black;}#sk-container-id-1 div.sk-estimator:hover label.sk-toggleable__label-arrow:before {color: black;}#sk-container-id-1 div.sk-toggleable__content {max-height: 0;max-width: 0;overflow: hidden;text-align: left;background-color: #f0f8ff;}#sk-container-id-1 div.sk-toggleable__content pre {margin: 0.2em;color: black;border-radius: 0.25em;background-color: #f0f8ff;}#sk-container-id-1 input.sk-toggleable__control:checked~div.sk-toggleable__content {max-height: 200px;max-width: 100%;overflow: auto;}#sk-container-id-1 input.sk-toggleable__control:checked~label.sk-toggleable__label-arrow:before {content: \"▾\";}#sk-container-id-1 div.sk-estimator input.sk-toggleable__control:checked~label.sk-toggleable__label {background-color: #d4ebff;}#sk-container-id-1 div.sk-label input.sk-toggleable__control:checked~label.sk-toggleable__label {background-color: #d4ebff;}#sk-container-id-1 input.sk-hidden--visually {border: 0;clip: rect(1px 1px 1px 1px);clip: rect(1px, 1px, 1px, 1px);height: 1px;margin: -1px;overflow: hidden;padding: 0;position: absolute;width: 1px;}#sk-container-id-1 div.sk-estimator {font-family: monospace;background-color: #f0f8ff;border: 1px dotted black;border-radius: 0.25em;box-sizing: border-box;margin-bottom: 0.5em;}#sk-container-id-1 div.sk-estimator:hover {background-color: #d4ebff;}#sk-container-id-1 div.sk-parallel-item::after {content: \"\";width: 100%;border-bottom: 1px solid gray;flex-grow: 1;}#sk-container-id-1 div.sk-label:hover label.sk-toggleable__label {background-color: #d4ebff;}#sk-container-id-1 div.sk-serial::before {content: \"\";position: absolute;border-left: 1px solid gray;box-sizing: border-box;top: 0;bottom: 0;left: 50%;z-index: 0;}#sk-container-id-1 div.sk-serial {display: flex;flex-direction: column;align-items: center;background-color: white;padding-right: 0.2em;padding-left: 0.2em;position: relative;}#sk-container-id-1 div.sk-item {position: relative;z-index: 1;}#sk-container-id-1 div.sk-parallel {display: flex;align-items: stretch;justify-content: center;background-color: white;position: relative;}#sk-container-id-1 div.sk-item::before, #sk-container-id-1 div.sk-parallel-item::before {content: \"\";position: absolute;border-left: 1px solid gray;box-sizing: border-box;top: 0;bottom: 0;left: 50%;z-index: -1;}#sk-container-id-1 div.sk-parallel-item {display: flex;flex-direction: column;z-index: 1;position: relative;background-color: white;}#sk-container-id-1 div.sk-parallel-item:first-child::after {align-self: flex-end;width: 50%;}#sk-container-id-1 div.sk-parallel-item:last-child::after {align-self: flex-start;width: 50%;}#sk-container-id-1 div.sk-parallel-item:only-child::after {width: 0;}#sk-container-id-1 div.sk-dashed-wrapped {border: 1px dashed gray;margin: 0 0.4em 0.5em 0.4em;box-sizing: border-box;padding-bottom: 0.4em;background-color: white;}#sk-container-id-1 div.sk-label label {font-family: monospace;font-weight: bold;display: inline-block;line-height: 1.2em;}#sk-container-id-1 div.sk-label-container {text-align: center;}#sk-container-id-1 div.sk-container {/* jupyter's `normalize.less` sets `[hidden] { display: none; }` but bootstrap.min.css set `[hidden] { display: none !important; }` so we also need the `!important` here to be able to override the default hidden behavior on the sphinx rendered scikit-learn.org. See: https://github.com/scikit-learn/scikit-learn/issues/21755 */display: inline-block !important;position: relative;}#sk-container-id-1 div.sk-text-repr-fallback {display: none;}</style><div id=\"sk-container-id-1\" class=\"sk-top-container\"><div class=\"sk-text-repr-fallback\"><pre>SGDRegressor(learning_rate=&#x27;optimal&#x27;, loss=&#x27;huber&#x27;, penalty=&#x27;elasticnet&#x27;,\n",
       "             random_state=52)</pre><b>In a Jupyter environment, please rerun this cell to show the HTML representation or trust the notebook. <br />On GitHub, the HTML representation is unable to render, please try loading this page with nbviewer.org.</b></div><div class=\"sk-container\" hidden><div class=\"sk-item\"><div class=\"sk-estimator sk-toggleable\"><input class=\"sk-toggleable__control sk-hidden--visually\" id=\"sk-estimator-id-1\" type=\"checkbox\" checked><label for=\"sk-estimator-id-1\" class=\"sk-toggleable__label sk-toggleable__label-arrow\">SGDRegressor</label><div class=\"sk-toggleable__content\"><pre>SGDRegressor(learning_rate=&#x27;optimal&#x27;, loss=&#x27;huber&#x27;, penalty=&#x27;elasticnet&#x27;,\n",
       "             random_state=52)</pre></div></div></div></div></div>"
      ],
      "text/plain": [
       "SGDRegressor(learning_rate='optimal', loss='huber', penalty='elasticnet',\n",
       "             random_state=52)"
      ]
     },
     "execution_count": 21,
     "metadata": {},
     "output_type": "execute_result"
    }
   ],
   "source": [
    "\n",
    "sgd_v1.fit(X_train, y_train)"
   ]
  },
  {
   "cell_type": "markdown",
   "metadata": {},
   "source": [
    "## Measure the Performance of the Mode\n",
    "Now that we have trained our model, it is time to predict the target variable with the test data. I will be using Mean Squared Error, Mean Absolute Error and R Sqared."
   ]
  },
  {
   "cell_type": "code",
   "execution_count": 22,
   "metadata": {},
   "outputs": [],
   "source": [
    "y_pred_v1 = sgd_v1.predict(X_test)  # Predict labels"
   ]
  },
  {
   "cell_type": "code",
   "execution_count": 23,
   "metadata": {},
   "outputs": [
    {
     "name": "stdout",
     "output_type": "stream",
     "text": [
      "Mean squared error: 263.537\n",
      "R2 score: 0.49\n",
      "Mean absolute error: 12.14\n"
     ]
    }
   ],
   "source": [
    "# Let's evaluate the performance of the model.\n",
    "\n",
    "from sklearn.metrics import mean_squared_error, r2_score,mean_absolute_error\n",
    "# The mean squared error\n",
    "print(f\"Mean squared error: {round( mean_squared_error(y_test, y_pred_v1),3)}\")\n",
    "# Explained variance score: 1 is perfect prediction\n",
    "print(f\"R2 score: {round(r2_score(y_test, y_pred_v1),3)}\")\n",
    "# Mean Absolute Error\n",
    "print(f\"Mean absolute error: { round(mean_absolute_error(y_test, y_pred_v1),3)}\")"
   ]
  },
  {
   "cell_type": "markdown",
   "metadata": {},
   "source": [
    "Mean Squared Error and Mean Absolute Error are fairly high (the closer to 0 the higher the accuracy), meaning the model is not incredibly accurate. With the R2 Score we can see there is a correlation of 0.49, wich is not terrible, but not that good either since we want it to be as close to 1 as possible.\n",
    "\n",
    "To try and imprive the model, we can scale the features to normalize them from -1 to 1, this mught help improve the model."
   ]
  },
  {
   "cell_type": "code",
   "execution_count": 24,
   "metadata": {},
   "outputs": [],
   "source": [
    "scaler = StandardScaler()\n",
    "scaler.fit(X_train)\n",
    "X_train_scaled = scaler.transform(X_train)\n",
    "X_test_scaled = scaler.transform(X_test)"
   ]
  },
  {
   "cell_type": "code",
   "execution_count": 25,
   "metadata": {},
   "outputs": [],
   "source": [
    "sgd_v2 = SGDRegressor(alpha=0.0001, learning_rate='optimal', loss='huber', \n",
    "    penalty='elasticnet', random_state = 52)"
   ]
  },
  {
   "cell_type": "code",
   "execution_count": 26,
   "metadata": {},
   "outputs": [
    {
     "data": {
      "text/html": [
       "<style>#sk-container-id-2 {color: black;background-color: white;}#sk-container-id-2 pre{padding: 0;}#sk-container-id-2 div.sk-toggleable {background-color: white;}#sk-container-id-2 label.sk-toggleable__label {cursor: pointer;display: block;width: 100%;margin-bottom: 0;padding: 0.3em;box-sizing: border-box;text-align: center;}#sk-container-id-2 label.sk-toggleable__label-arrow:before {content: \"▸\";float: left;margin-right: 0.25em;color: #696969;}#sk-container-id-2 label.sk-toggleable__label-arrow:hover:before {color: black;}#sk-container-id-2 div.sk-estimator:hover label.sk-toggleable__label-arrow:before {color: black;}#sk-container-id-2 div.sk-toggleable__content {max-height: 0;max-width: 0;overflow: hidden;text-align: left;background-color: #f0f8ff;}#sk-container-id-2 div.sk-toggleable__content pre {margin: 0.2em;color: black;border-radius: 0.25em;background-color: #f0f8ff;}#sk-container-id-2 input.sk-toggleable__control:checked~div.sk-toggleable__content {max-height: 200px;max-width: 100%;overflow: auto;}#sk-container-id-2 input.sk-toggleable__control:checked~label.sk-toggleable__label-arrow:before {content: \"▾\";}#sk-container-id-2 div.sk-estimator input.sk-toggleable__control:checked~label.sk-toggleable__label {background-color: #d4ebff;}#sk-container-id-2 div.sk-label input.sk-toggleable__control:checked~label.sk-toggleable__label {background-color: #d4ebff;}#sk-container-id-2 input.sk-hidden--visually {border: 0;clip: rect(1px 1px 1px 1px);clip: rect(1px, 1px, 1px, 1px);height: 1px;margin: -1px;overflow: hidden;padding: 0;position: absolute;width: 1px;}#sk-container-id-2 div.sk-estimator {font-family: monospace;background-color: #f0f8ff;border: 1px dotted black;border-radius: 0.25em;box-sizing: border-box;margin-bottom: 0.5em;}#sk-container-id-2 div.sk-estimator:hover {background-color: #d4ebff;}#sk-container-id-2 div.sk-parallel-item::after {content: \"\";width: 100%;border-bottom: 1px solid gray;flex-grow: 1;}#sk-container-id-2 div.sk-label:hover label.sk-toggleable__label {background-color: #d4ebff;}#sk-container-id-2 div.sk-serial::before {content: \"\";position: absolute;border-left: 1px solid gray;box-sizing: border-box;top: 0;bottom: 0;left: 50%;z-index: 0;}#sk-container-id-2 div.sk-serial {display: flex;flex-direction: column;align-items: center;background-color: white;padding-right: 0.2em;padding-left: 0.2em;position: relative;}#sk-container-id-2 div.sk-item {position: relative;z-index: 1;}#sk-container-id-2 div.sk-parallel {display: flex;align-items: stretch;justify-content: center;background-color: white;position: relative;}#sk-container-id-2 div.sk-item::before, #sk-container-id-2 div.sk-parallel-item::before {content: \"\";position: absolute;border-left: 1px solid gray;box-sizing: border-box;top: 0;bottom: 0;left: 50%;z-index: -1;}#sk-container-id-2 div.sk-parallel-item {display: flex;flex-direction: column;z-index: 1;position: relative;background-color: white;}#sk-container-id-2 div.sk-parallel-item:first-child::after {align-self: flex-end;width: 50%;}#sk-container-id-2 div.sk-parallel-item:last-child::after {align-self: flex-start;width: 50%;}#sk-container-id-2 div.sk-parallel-item:only-child::after {width: 0;}#sk-container-id-2 div.sk-dashed-wrapped {border: 1px dashed gray;margin: 0 0.4em 0.5em 0.4em;box-sizing: border-box;padding-bottom: 0.4em;background-color: white;}#sk-container-id-2 div.sk-label label {font-family: monospace;font-weight: bold;display: inline-block;line-height: 1.2em;}#sk-container-id-2 div.sk-label-container {text-align: center;}#sk-container-id-2 div.sk-container {/* jupyter's `normalize.less` sets `[hidden] { display: none; }` but bootstrap.min.css set `[hidden] { display: none !important; }` so we also need the `!important` here to be able to override the default hidden behavior on the sphinx rendered scikit-learn.org. See: https://github.com/scikit-learn/scikit-learn/issues/21755 */display: inline-block !important;position: relative;}#sk-container-id-2 div.sk-text-repr-fallback {display: none;}</style><div id=\"sk-container-id-2\" class=\"sk-top-container\"><div class=\"sk-text-repr-fallback\"><pre>SGDRegressor(learning_rate=&#x27;optimal&#x27;, loss=&#x27;huber&#x27;, penalty=&#x27;elasticnet&#x27;,\n",
       "             random_state=52)</pre><b>In a Jupyter environment, please rerun this cell to show the HTML representation or trust the notebook. <br />On GitHub, the HTML representation is unable to render, please try loading this page with nbviewer.org.</b></div><div class=\"sk-container\" hidden><div class=\"sk-item\"><div class=\"sk-estimator sk-toggleable\"><input class=\"sk-toggleable__control sk-hidden--visually\" id=\"sk-estimator-id-2\" type=\"checkbox\" checked><label for=\"sk-estimator-id-2\" class=\"sk-toggleable__label sk-toggleable__label-arrow\">SGDRegressor</label><div class=\"sk-toggleable__content\"><pre>SGDRegressor(learning_rate=&#x27;optimal&#x27;, loss=&#x27;huber&#x27;, penalty=&#x27;elasticnet&#x27;,\n",
       "             random_state=52)</pre></div></div></div></div></div>"
      ],
      "text/plain": [
       "SGDRegressor(learning_rate='optimal', loss='huber', penalty='elasticnet',\n",
       "             random_state=52)"
      ]
     },
     "execution_count": 26,
     "metadata": {},
     "output_type": "execute_result"
    }
   ],
   "source": [
    "sgd_v2.fit(X_train_scaled, y_train)"
   ]
  },
  {
   "cell_type": "code",
   "execution_count": 27,
   "metadata": {},
   "outputs": [],
   "source": [
    "y_pred_v2 = sgd_v2.predict(X_test_scaled)  # Predict labels"
   ]
  },
  {
   "cell_type": "code",
   "execution_count": 28,
   "metadata": {},
   "outputs": [
    {
     "name": "stdout",
     "output_type": "stream",
     "text": [
      "Mean squared error: 255.754\n",
      "R2 score: 0.505\n",
      "Mean absolute error: 12.056\n"
     ]
    }
   ],
   "source": [
    "# The mean squared error\n",
    "print(f\"Mean squared error: {round( mean_squared_error(y_test, y_pred_v2),3)}\")\n",
    "# Explained variance score: 1 is perfect prediction\n",
    "print(f\"R2 score: {round(r2_score(y_test, y_pred_v2),3)}\")\n",
    "# Mean Absolute Error\n",
    "print(f\"Mean absolute error: { round(mean_absolute_error(y_test, y_pred_v2),3)}\")"
   ]
  },
  {
   "cell_type": "markdown",
   "metadata": {},
   "source": [
    "With the scaled data, the model performs slightly better\n",
    "\n"
   ]
  },
  {
   "cell_type": "code",
   "execution_count": null,
   "metadata": {},
   "outputs": [],
   "source": []
  }
 ],
 "metadata": {
  "kernelspec": {
   "display_name": "Python 3 (ipykernel)",
   "language": "python",
   "name": "python3"
  },
  "language_info": {
   "codemirror_mode": {
    "name": "ipython",
    "version": 3
   },
   "file_extension": ".py",
   "mimetype": "text/x-python",
   "name": "python",
   "nbconvert_exporter": "python",
   "pygments_lexer": "ipython3",
   "version": "3.10.6"
  }
 },
 "nbformat": 4,
 "nbformat_minor": 4
}
